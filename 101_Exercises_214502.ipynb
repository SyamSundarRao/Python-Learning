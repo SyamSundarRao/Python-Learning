{
  "cells": [
    {
      "cell_type": "markdown",
      "metadata": {
        "id": "view-in-github",
        "colab_type": "text"
      },
      "source": [
        "<a href=\"https://colab.research.google.com/github/SyamSundarRao/Python-Learning/blob/master/101_Exercises_214502.ipynb\" target=\"_parent\"><img src=\"https://colab.research.google.com/assets/colab-badge.svg\" alt=\"Open In Colab\"/></a>"
      ]
    },
    {
      "cell_type": "code",
      "execution_count": null,
      "id": "270ffd4d",
      "metadata": {
        "colab": {
          "base_uri": "https://localhost:8080/"
        },
        "id": "270ffd4d",
        "outputId": "29dc421f-3216-42f5-a6a3-43c8a0ccfda4"
      },
      "outputs": [
        {
          "output_type": "stream",
          "name": "stdout",
          "text": [
            "False\n"
          ]
        }
      ],
      "source": [
        "# Exercise 1\n",
        "on_mars_right = False\n",
        "print(on_mars_right)"
      ]
    },
    {
      "cell_type": "code",
      "execution_count": null,
      "id": "728abbdc",
      "metadata": {
        "id": "728abbdc",
        "colab": {
          "base_uri": "https://localhost:8080/"
        },
        "outputId": "1cb926f8-1c2e-4682-f240-2c4b9b0b17c4"
      },
      "outputs": [
        {
          "output_type": "stream",
          "name": "stdout",
          "text": [
            "['mango', 'banana', 'guava', 'kiwi', 'strawberry']\n"
          ]
        }
      ],
      "source": [
        "# Exercise 2\n",
        "fruits = [\"mango\", \"banana\", \"guava\", \"kiwi\", \"strawberry\"]\n",
        "print(fruits)"
      ]
    },
    {
      "cell_type": "code",
      "execution_count": null,
      "id": "d1b21f3c",
      "metadata": {
        "id": "d1b21f3c",
        "colab": {
          "base_uri": "https://localhost:8080/"
        },
        "outputId": "42b27681-4a98-45e0-b77c-d6a5f7665cc6"
      },
      "outputs": [
        {
          "output_type": "stream",
          "name": "stdout",
          "text": [
            "['eggplant', 'broccoli', 'carrot', 'cauliflower', 'zucchini']\n"
          ]
        }
      ],
      "source": [
        "# Exercise 3\n",
        "vegetables = [\"eggplant\", \"broccoli\", \"carrot\", \"cauliflower\", \"zucchini\"] \n",
        "print(vegetables)"
      ]
    },
    {
      "cell_type": "code",
      "execution_count": null,
      "id": "554f3b11",
      "metadata": {
        "id": "554f3b11",
        "colab": {
          "base_uri": "https://localhost:8080/"
        },
        "outputId": "84276365-c9f9-4a1a-8acb-dcb206a057ed"
      },
      "outputs": [
        {
          "output_type": "stream",
          "name": "stdout",
          "text": [
            "[1, 2, 3, 4, 5, 6, 7, 8, 9, 10]\n"
          ]
        }
      ],
      "source": [
        "# Exercise 4\n",
        "numbers = [1, 2, 3, 4, 5, 6, 7, 8, 9, 10]\n",
        "print(numbers)"
      ]
    },
    {
      "cell_type": "code",
      "execution_count": null,
      "id": "21335768",
      "metadata": {
        "id": "21335768",
        "colab": {
          "base_uri": "https://localhost:8080/"
        },
        "outputId": "6a8c05f2-b6f4-4263-a27d-71e62141576a"
      },
      "outputs": [
        {
          "output_type": "stream",
          "name": "stdout",
          "text": [
            "['mango', 'banana', 'guava', 'kiwi', 'strawberry', 'tomoto']\n"
          ]
        }
      ],
      "source": [
        "# Exercise 5\n",
        "fruits = [\"mango\", \"banana\", \"guava\", \"kiwi\", \"strawberry\"]\n",
        "fruits.append('tomoto')\n",
        "print(fruits)"
      ]
    },
    {
      "cell_type": "code",
      "execution_count": null,
      "id": "29772966",
      "metadata": {
        "id": "29772966"
      },
      "outputs": [],
      "source": [
        "# Exercise 6\n",
        "vegetables = [\"eggplant\", \"broccoli\", \"carrot\", \"cauliflower\", \"zucchini\"]\n",
        "vegetables.append(\"tomato\")\n",
        "print(vegetables)"
      ]
    },
    {
      "cell_type": "code",
      "execution_count": null,
      "id": "9e440664",
      "metadata": {
        "id": "9e440664",
        "colab": {
          "base_uri": "https://localhost:8080/"
        },
        "outputId": "1cb8447f-7466-4fa8-ec10-97d995d67885"
      },
      "outputs": [
        {
          "output_type": "stream",
          "name": "stdout",
          "text": [
            "[10, 9, 8, 7, 6, 5, 4, 3, 2, 1]\n"
          ]
        }
      ],
      "source": [
        "# Exercise 7\n",
        "numbers = [1, 2, 3, 4, 5, 6, 7, 8, 9, 10]\n",
        "numbers.reverse()\n",
        "print(numbers)"
      ]
    },
    {
      "cell_type": "code",
      "execution_count": null,
      "id": "0d791724",
      "metadata": {
        "id": "0d791724",
        "outputId": "678747c4-73e7-4614-c4fd-b38c91e2ab07",
        "colab": {
          "base_uri": "https://localhost:8080/"
        }
      },
      "outputs": [
        {
          "output_type": "stream",
          "name": "stdout",
          "text": [
            "['broccoli', 'carrot', 'cauliflower', 'eggplant', 'zucchini']\n"
          ]
        }
      ],
      "source": [
        "# Exercise 8\n",
        "vegetables.sort()\n",
        "print(vegetables)"
      ]
    },
    {
      "cell_type": "code",
      "execution_count": null,
      "id": "ea43898d",
      "metadata": {
        "id": "ea43898d",
        "outputId": "8cf1fd4a-7490-465c-a005-d11f40967b3d",
        "colab": {
          "base_uri": "https://localhost:8080/"
        }
      },
      "outputs": [
        {
          "output_type": "stream",
          "name": "stdout",
          "text": [
            "['tomoto', 'strawberry', 'mango', 'kiwi', 'guava', 'banana']\n"
          ]
        }
      ],
      "source": [
        "# Exercise 9\n",
        "fruits.sort(reverse=True)\n",
        "print(fruits)"
      ]
    },
    {
      "cell_type": "code",
      "execution_count": null,
      "id": "5a311aad",
      "metadata": {
        "id": "5a311aad",
        "outputId": "3722b9cb-830a-431c-a257-c609775eabec"
      },
      "outputs": [
        {
          "name": "stdout",
          "output_type": "stream",
          "text": [
            "['tomato', 'strawberry', 'mango', 'kiwi', 'guava', 'banana', 'broccoli', 'carrot', 'cauliflower', 'eggplant', 'tomato', 'zucchini']\n"
          ]
        }
      ],
      "source": [
        "# Exercise 10\n",
        "fruits_and_veggies = fruits + vegetables\n",
        "print(fruits_and_veggies)"
      ]
    },
    {
      "cell_type": "code",
      "execution_count": null,
      "id": "6d200250",
      "metadata": {
        "id": "6d200250",
        "outputId": "cb74a47d-3ad6-4afa-a988-2d49c8a52696"
      },
      "outputs": [
        {
          "name": "stdout",
          "output_type": "stream",
          "text": [
            "3\n"
          ]
        }
      ],
      "source": [
        "# Exercise 11\n",
        "def add_one(n):\n",
        "    return n + 1\n",
        "\n",
        "print(add_one(2))"
      ]
    },
    {
      "cell_type": "code",
      "execution_count": null,
      "id": "9e1c8e50",
      "metadata": {
        "id": "9e1c8e50",
        "outputId": "9a175415-4354-4dae-acb1-b3cc4222d5f0"
      },
      "outputs": [
        {
          "name": "stdout",
          "output_type": "stream",
          "text": [
            "False\n",
            "False\n",
            "True\n"
          ]
        }
      ],
      "source": [
        "# Exercise 12\n",
        "def is_positive(n):\n",
        "    if n > 0:\n",
        "        return True\n",
        "    else:\n",
        "        return False\n",
        "print(is_positive(0))\n",
        "print(is_positive(-1))\n",
        "print(is_positive(1))"
      ]
    },
    {
      "cell_type": "code",
      "execution_count": null,
      "id": "d272bbce",
      "metadata": {
        "id": "d272bbce",
        "outputId": "530c22ff-2bfa-4aac-b7fe-6fd5e66ecc5e"
      },
      "outputs": [
        {
          "name": "stdout",
          "output_type": "stream",
          "text": [
            "False\n",
            "True\n",
            "False\n"
          ]
        }
      ],
      "source": [
        "# Exercise 13\n",
        "def is_negative(n):\n",
        "    if n < 0:\n",
        "        return True\n",
        "    else:\n",
        "        return False\n",
        "print(is_negative(0))\n",
        "print(is_negative(-1))\n",
        "print(is_negative(1))"
      ]
    },
    {
      "cell_type": "code",
      "execution_count": null,
      "id": "bbde25dc",
      "metadata": {
        "id": "bbde25dc",
        "outputId": "f2bc98d0-927f-400e-aca5-7a499b36d85a"
      },
      "outputs": [
        {
          "name": "stdout",
          "output_type": "stream",
          "text": [
            "True\n",
            "False\n"
          ]
        }
      ],
      "source": [
        "# Exercise 14\n",
        "def is_odd(n):\n",
        "    if n%2 != 0:\n",
        "        return True\n",
        "    else:\n",
        "        return False\n",
        "\n",
        "print(is_odd(5))\n",
        "print(is_odd(-4))"
      ]
    },
    {
      "cell_type": "code",
      "execution_count": null,
      "id": "2bf2b647",
      "metadata": {
        "id": "2bf2b647",
        "outputId": "55616a97-8fd1-43da-8c00-d5e435a7bb83"
      },
      "outputs": [
        {
          "name": "stdout",
          "output_type": "stream",
          "text": [
            "False\n",
            "True\n"
          ]
        }
      ],
      "source": [
        "# Exercise 15\n",
        "def is_even(n):\n",
        "    if n%2 == 0:\n",
        "        return True\n",
        "    else:\n",
        "        return False\n",
        "\n",
        "print(is_even(5))\n",
        "print(is_even(-4))"
      ]
    },
    {
      "cell_type": "code",
      "execution_count": null,
      "id": "166c3c67",
      "metadata": {
        "id": "166c3c67",
        "outputId": "6810db81-ab46-4407-e994-9f0a639fe6be"
      },
      "outputs": [
        {
          "name": "stdout",
          "output_type": "stream",
          "text": [
            "apple\n"
          ]
        }
      ],
      "source": [
        "# Exercise 16\n",
        "def identity(n):\n",
        "    return n\n",
        "\n",
        "print(identity(\"apple\"))"
      ]
    },
    {
      "cell_type": "code",
      "execution_count": null,
      "id": "5ca61ecb",
      "metadata": {
        "id": "5ca61ecb",
        "outputId": "ea718607-cff0-44f1-8e3c-1f955aef2d29"
      },
      "outputs": [
        {
          "name": "stdout",
          "output_type": "stream",
          "text": [
            "False\n",
            "True\n",
            "False\n"
          ]
        }
      ],
      "source": [
        "# Exercise 17\n",
        "def is_positive_odd(n):\n",
        "    if n > 0 and n %2 != 0:\n",
        "        return True\n",
        "    else:\n",
        "        return False\n",
        "    \n",
        "print(is_positive_odd(-3))\n",
        "print(is_positive_odd(3))\n",
        "print(is_positive_odd(0))"
      ]
    },
    {
      "cell_type": "code",
      "execution_count": null,
      "id": "d19748b1",
      "metadata": {
        "id": "d19748b1",
        "outputId": "3d0dd657-c4e7-41d1-dba9-fd4d9896afff"
      },
      "outputs": [
        {
          "name": "stdout",
          "output_type": "stream",
          "text": [
            "False\n",
            "True\n",
            "False\n"
          ]
        }
      ],
      "source": [
        "# Exercise 18\n",
        "def is_positive_even(n):\n",
        "    if n > 0 and n %2 == 0:\n",
        "        return True\n",
        "    else:\n",
        "        return False\n",
        "    \n",
        "print(is_positive_even(-2))\n",
        "print(is_positive_even(2))\n",
        "print(is_positive_even(0))"
      ]
    },
    {
      "cell_type": "code",
      "execution_count": null,
      "id": "2764264d",
      "metadata": {
        "id": "2764264d",
        "outputId": "ce5184f0-c164-49e4-af06-1a6109a4bafa"
      },
      "outputs": [
        {
          "name": "stdout",
          "output_type": "stream",
          "text": [
            "True\n",
            "False\n",
            "False\n"
          ]
        }
      ],
      "source": [
        "# Exercise 19\n",
        "def is_negative_odd(n):\n",
        "    if n < 0 and n %2 != 0:\n",
        "        return True\n",
        "    else:\n",
        "        return False\n",
        "\n",
        "print(is_negative_odd(-3))\n",
        "print(is_negative_odd(3))\n",
        "print(is_negative_odd(0))"
      ]
    },
    {
      "cell_type": "code",
      "execution_count": null,
      "id": "4b1b7557",
      "metadata": {
        "id": "4b1b7557",
        "outputId": "3700efdb-6564-42a3-cd0d-0c836ad04adc"
      },
      "outputs": [
        {
          "name": "stdout",
          "output_type": "stream",
          "text": [
            "True\n",
            "False\n",
            "False\n"
          ]
        }
      ],
      "source": [
        "# Exercise 20\n",
        "def is_negative_even(n):\n",
        "    if n < 0 and n %2 == 0:\n",
        "        return True\n",
        "    else:\n",
        "        return False\n",
        "\n",
        "print(is_negative_even(-2))\n",
        "print(is_negative_even(2))\n",
        "print(is_negative_even(0))"
      ]
    },
    {
      "cell_type": "code",
      "execution_count": null,
      "id": "db869e99",
      "metadata": {
        "id": "db869e99",
        "outputId": "af7d7abb-487a-490d-a110-18217ef9b519"
      },
      "outputs": [
        {
          "name": "stdout",
          "output_type": "stream",
          "text": [
            "1.5\n",
            "5.0\n"
          ]
        }
      ],
      "source": [
        "# Exercise 21\n",
        "def half(n):\n",
        "    return n / 2\n",
        "\n",
        "print(half(3))\n",
        "print(half(10))"
      ]
    },
    {
      "cell_type": "code",
      "execution_count": null,
      "id": "08a41fe3",
      "metadata": {
        "id": "08a41fe3",
        "outputId": "16cb86c7-deb8-4c4e-cd06-e802dd5967b2"
      },
      "outputs": [
        {
          "name": "stdout",
          "output_type": "stream",
          "text": [
            "8\n"
          ]
        }
      ],
      "source": [
        "# Exercise 22\n",
        "def double(n):\n",
        "    return 2 * n\n",
        "\n",
        "print(double(4))"
      ]
    },
    {
      "cell_type": "code",
      "execution_count": null,
      "id": "4de46841",
      "metadata": {
        "id": "4de46841",
        "outputId": "9b43d636-37bf-4f1c-ce0b-067c48f03aa5"
      },
      "outputs": [
        {
          "name": "stdout",
          "output_type": "stream",
          "text": [
            "12\n"
          ]
        }
      ],
      "source": [
        "# Exercise 23\n",
        "def triple(n):\n",
        "    return 3 * n\n",
        "\n",
        "print(triple(4))"
      ]
    },
    {
      "cell_type": "code",
      "execution_count": null,
      "id": "ed803932",
      "metadata": {
        "id": "ed803932",
        "outputId": "703543e3-20f6-499a-cb99-12c139e8eaa4"
      },
      "outputs": [
        {
          "name": "stdout",
          "output_type": "stream",
          "text": [
            "-12\n",
            "12\n"
          ]
        }
      ],
      "source": [
        "# Exercise 24\n",
        "def reverse_sign(n):\n",
        "    return n * -1\n",
        "\n",
        "print(reverse_sign(12))\n",
        "print(reverse_sign(-12))"
      ]
    },
    {
      "cell_type": "code",
      "execution_count": null,
      "id": "1c7de09c",
      "metadata": {
        "id": "1c7de09c",
        "outputId": "8a7b843a-15f8-4e62-bc11-caea96713f09"
      },
      "outputs": [
        {
          "name": "stdout",
          "output_type": "stream",
          "text": [
            "12\n",
            "12\n"
          ]
        }
      ],
      "source": [
        "# Exercise 25\n",
        "def absolute_value(n):\n",
        "    return abs(n)\n",
        "\n",
        "print(absolute_value(-12))\n",
        "print(absolute_value(12))"
      ]
    },
    {
      "cell_type": "code",
      "execution_count": null,
      "id": "478398e9",
      "metadata": {
        "id": "478398e9",
        "outputId": "f629eb37-abf9-4b62-b05f-a9dc72475c65"
      },
      "outputs": [
        {
          "name": "stdout",
          "output_type": "stream",
          "text": [
            "True\n",
            "False\n"
          ]
        }
      ],
      "source": [
        "# Exercise 26\n",
        "def is_multiple_of_three(n):\n",
        "    if n % 3 == 0:\n",
        "        return True\n",
        "    else:\n",
        "        return False\n",
        "    \n",
        "print(is_multiple_of_three(6))\n",
        "print(is_multiple_of_three(2))"
      ]
    },
    {
      "cell_type": "code",
      "execution_count": null,
      "id": "d336267f",
      "metadata": {
        "id": "d336267f",
        "outputId": "efbf0c85-099d-4eed-e0c0-592271fc252c"
      },
      "outputs": [
        {
          "name": "stdout",
          "output_type": "stream",
          "text": [
            "True\n",
            "False\n"
          ]
        }
      ],
      "source": [
        "# Exercise 27\n",
        "def is_multiple_of_five(n):\n",
        "    if n % 5 == 0:\n",
        "        return True\n",
        "    else:\n",
        "        return False\n",
        "    \n",
        "print(is_multiple_of_five(60))\n",
        "print(is_multiple_of_three(2))"
      ]
    },
    {
      "cell_type": "code",
      "execution_count": null,
      "id": "19afb83f",
      "metadata": {
        "id": "19afb83f",
        "outputId": "6893ece5-4263-4da3-fb6b-bc565517231d"
      },
      "outputs": [
        {
          "name": "stdout",
          "output_type": "stream",
          "text": [
            "False\n",
            "True\n",
            "False\n",
            "False\n"
          ]
        }
      ],
      "source": [
        "# Exercise 28\n",
        "def is_multiple_of_both_three_and_five(n):\n",
        "    if n % 3 == 0 and n % 5 == 0:\n",
        "        return True\n",
        "    else:\n",
        "        return False\n",
        "    \n",
        "print(is_multiple_of_both_three_and_five(6))\n",
        "print(is_multiple_of_both_three_and_five(15))\n",
        "print(is_multiple_of_both_three_and_five(5))\n",
        "print(is_multiple_of_both_three_and_five(4))"
      ]
    },
    {
      "cell_type": "code",
      "execution_count": null,
      "id": "b9263333",
      "metadata": {
        "id": "b9263333",
        "outputId": "ebb483a1-3f37-4452-dd91-a9ef49794980"
      },
      "outputs": [
        {
          "name": "stdout",
          "output_type": "stream",
          "text": [
            "9\n"
          ]
        }
      ],
      "source": [
        "# Exercise 29\n",
        "def square(n):\n",
        "    return n * n\n",
        "\n",
        "print(square(3))"
      ]
    },
    {
      "cell_type": "code",
      "execution_count": null,
      "id": "17ef3daf",
      "metadata": {
        "id": "17ef3daf",
        "outputId": "af411157-547a-49fa-a930-e7104a52a3a7"
      },
      "outputs": [
        {
          "name": "stdout",
          "output_type": "stream",
          "text": [
            "2\n"
          ]
        }
      ],
      "source": [
        "# Exercise 30\n",
        "def add(a, b):\n",
        "    return a + b\n",
        "\n",
        "print(add(3, -1))"
      ]
    },
    {
      "cell_type": "code",
      "execution_count": null,
      "id": "0d353ddb",
      "metadata": {
        "id": "0d353ddb",
        "outputId": "45da8b63-eb65-478c-c941-7812965b31ef"
      },
      "outputs": [
        {
          "name": "stdout",
          "output_type": "stream",
          "text": [
            "27\n"
          ]
        }
      ],
      "source": [
        "# Exercise 31\n",
        "def cube(n):\n",
        "    return n ** 3\n",
        "\n",
        "print(cube(3))"
      ]
    },
    {
      "cell_type": "code",
      "execution_count": null,
      "id": "6f8de1f6",
      "metadata": {
        "id": "6f8de1f6",
        "outputId": "2f6af264-1535-4724-b4be-a19fdba7d401"
      },
      "outputs": [
        {
          "name": "stdout",
          "output_type": "stream",
          "text": [
            "4.0\n"
          ]
        }
      ],
      "source": [
        "# Exercise 32\n",
        "import math\n",
        "def square_root(n):\n",
        "    return math.sqrt(n)\n",
        "\n",
        "print(square_root(16))"
      ]
    },
    {
      "cell_type": "code",
      "execution_count": null,
      "id": "bc6b2335",
      "metadata": {
        "id": "bc6b2335",
        "outputId": "c9549a3b-418d-4c2c-8d55-20ab2f0d8882"
      },
      "outputs": [
        {
          "name": "stdout",
          "output_type": "stream",
          "text": [
            "5\n"
          ]
        }
      ],
      "source": [
        "# Exercise 33\n",
        "def subtract(a, b):\n",
        "    return a - b\n",
        "\n",
        "print(subtract(8, 3))"
      ]
    },
    {
      "cell_type": "code",
      "execution_count": null,
      "id": "7ef86c3f",
      "metadata": {
        "id": "7ef86c3f",
        "outputId": "6be66208-7df1-4ae4-bdcb-f3a4db4b7061"
      },
      "outputs": [
        {
          "name": "stdout",
          "output_type": "stream",
          "text": [
            "6\n"
          ]
        }
      ],
      "source": [
        "# Exercise 34\n",
        "def multiply(a, b):\n",
        "    return a * b\n",
        "\n",
        "print(multiply(2, 3))"
      ]
    },
    {
      "cell_type": "code",
      "execution_count": null,
      "id": "6324dd41",
      "metadata": {
        "id": "6324dd41",
        "outputId": "db1a357d-025c-48f2-b132-1a1b734e31c8"
      },
      "outputs": [
        {
          "name": "stdout",
          "output_type": "stream",
          "text": [
            "3.0\n",
            "2.5\n"
          ]
        }
      ],
      "source": [
        "# Exercise 35\n",
        "def divide(a, b):\n",
        "    return a / b\n",
        "\n",
        "print(divide(27, 9))\n",
        "print(divide(5, 2))"
      ]
    },
    {
      "cell_type": "code",
      "execution_count": null,
      "id": "63393720",
      "metadata": {
        "id": "63393720",
        "outputId": "8f9bb093-b6e5-4ff2-cfb8-30f231dc71e8"
      },
      "outputs": [
        {
          "name": "stdout",
          "output_type": "stream",
          "text": [
            "9\n",
            "3\n"
          ]
        }
      ],
      "source": [
        "# Exercise 36\n",
        "def quotient(a, b):\n",
        "    return a // b\n",
        "\n",
        "print(quotient(27, 3))\n",
        "print(quotient(10, 3))"
      ]
    },
    {
      "cell_type": "code",
      "execution_count": null,
      "id": "1e0a151f",
      "metadata": {
        "id": "1e0a151f",
        "outputId": "301f1495-07ae-4882-f927-698eaf083864"
      },
      "outputs": [
        {
          "name": "stdout",
          "output_type": "stream",
          "text": [
            "0\n",
            "1\n"
          ]
        }
      ],
      "source": [
        "# Exercise 37\n",
        "def remainder(a, b):\n",
        "    return a % b\n",
        "\n",
        "print(remainder(3, 3))\n",
        "print(remainder(5, 2))"
      ]
    },
    {
      "cell_type": "code",
      "execution_count": null,
      "id": "49657f69",
      "metadata": {
        "id": "49657f69",
        "outputId": "8d4f813c-181f-43d2-9ca6-1fb1290509a4"
      },
      "outputs": [
        {
          "name": "stdout",
          "output_type": "stream",
          "text": [
            "13\n"
          ]
        }
      ],
      "source": [
        "# Exercise 38\n",
        "def sum_of_squares(a, b):\n",
        "    return a ** 2 + b ** 2\n",
        "\n",
        "print(sum_of_squares(3, 2))"
      ]
    },
    {
      "cell_type": "code",
      "execution_count": null,
      "id": "822ba55d",
      "metadata": {
        "id": "822ba55d",
        "outputId": "e6c2c4b0-4ae4-4cca-b768-c5ef4e16a14a"
      },
      "outputs": [
        {
          "name": "stdout",
          "output_type": "stream",
          "text": [
            "7\n"
          ]
        }
      ],
      "source": [
        "# Exercise 39\n",
        "def times_two_plus_three(n):\n",
        "    return n * 2 +3\n",
        "\n",
        "print(times_two_plus_three(2))"
      ]
    },
    {
      "cell_type": "code",
      "execution_count": null,
      "id": "5c413b4b",
      "metadata": {
        "id": "5c413b4b",
        "outputId": "82b2e990-eacc-421d-d0c8-25daa2a9ab07"
      },
      "outputs": [
        {
          "name": "stdout",
          "output_type": "stream",
          "text": [
            "10\n"
          ]
        }
      ],
      "source": [
        "# Exercise 40\n",
        "def area_of_rectangle(a, b):\n",
        "    return a * b\n",
        "\n",
        "print(area_of_rectangle(5, 2))"
      ]
    },
    {
      "cell_type": "code",
      "execution_count": null,
      "id": "fe957306",
      "metadata": {
        "id": "fe957306",
        "outputId": "baf50879-600f-43c6-8225-b2af0361ad99"
      },
      "outputs": [
        {
          "name": "stdout",
          "output_type": "stream",
          "text": [
            "28.274333882308138\n"
          ]
        }
      ],
      "source": [
        "# Exercise 41\n",
        "import math\n",
        "def area_of_circle(n):\n",
        "    return math.pi * (n ** 2)\n",
        "\n",
        "print(area_of_circle(3))"
      ]
    },
    {
      "cell_type": "code",
      "execution_count": null,
      "id": "78da0854",
      "metadata": {
        "id": "78da0854",
        "outputId": "260b8163-7a74-4d30-dd3e-055987116878"
      },
      "outputs": [
        {
          "name": "stdout",
          "output_type": "stream",
          "text": [
            "18.84955592153876\n"
          ]
        }
      ],
      "source": [
        "# Exercise 42\n",
        "import math\n",
        "def circumference(n):\n",
        "    return 2 * math.pi * n\n",
        "\n",
        "print(circumference(3))"
      ]
    },
    {
      "cell_type": "code",
      "execution_count": null,
      "id": "0c066813",
      "metadata": {
        "id": "0c066813",
        "outputId": "b12e2d93-83e4-4787-dee8-8d3677aba0cd"
      },
      "outputs": [
        {
          "name": "stdout",
          "output_type": "stream",
          "text": [
            "True\n",
            "True\n",
            "False\n",
            "False\n",
            "False\n"
          ]
        }
      ],
      "source": [
        "# Exercise 43\n",
        "def is_vowel(s):\n",
        "    vowels = [\"a\", \"e\", \"i\", \"o\", \"u\"]\n",
        "    if s.lower() in vowels:\n",
        "        return True\n",
        "    else:\n",
        "        return False\n",
        "\n",
        "print(is_vowel(\"a\"))\n",
        "print(is_vowel(\"E\"))\n",
        "print(is_vowel(\"B\"))\n",
        "print(is_vowel(\"c\"))\n",
        "print(is_vowel(\"Banana\"))"
      ]
    },
    {
      "cell_type": "code",
      "execution_count": null,
      "id": "e9d07270",
      "metadata": {
        "id": "e9d07270",
        "outputId": "fa7036d3-438f-462a-bce8-81c194235d2a"
      },
      "outputs": [
        {
          "name": "stdout",
          "output_type": "stream",
          "text": [
            "True\n",
            "False\n"
          ]
        }
      ],
      "source": [
        "# Exercise 44\n",
        "def has_vowels(s):\n",
        "    vowels = [\"a\", \"e\", \"i\", \"o\", \"u\"]\n",
        "    for letter in s.lower():\n",
        "        if letter in vowels:\n",
        "            return True\n",
        "    return False\n",
        "\n",
        "print(has_vowels(\"banana\"))\n",
        "print(has_vowels(\"wyrd\"))"
      ]
    },
    {
      "cell_type": "code",
      "execution_count": null,
      "id": "c3c97430",
      "metadata": {
        "id": "c3c97430",
        "outputId": "0b73c20b-315f-4057-8a42-bdeb19bd023a"
      },
      "outputs": [
        {
          "name": "stdout",
          "output_type": "stream",
          "text": [
            "3\n",
            "0\n"
          ]
        }
      ],
      "source": [
        "# Exercise 45\n",
        "def count_vowels(s):\n",
        "    vowels = [\"a\", \"e\", \"i\", \"o\", \"u\"]\n",
        "    count = 0\n",
        "    for letter in s.lower():\n",
        "        if letter in vowels:\n",
        "            count += 1\n",
        "    return count\n",
        "\n",
        "print(count_vowels(\"banana\"))\n",
        "print(count_vowels(\"wyrd\"))"
      ]
    },
    {
      "cell_type": "code",
      "execution_count": null,
      "id": "79425aee",
      "metadata": {
        "id": "79425aee",
        "outputId": "5bf68035-6e1e-405a-e210-f3fa7a9d7575"
      },
      "outputs": [
        {
          "name": "stdout",
          "output_type": "stream",
          "text": [
            "bnn\n",
            "bnt\n",
            "wyrd\n"
          ]
        }
      ],
      "source": [
        "# Exercise 46\n",
        "def remove_vowels(s):\n",
        "    res = \"\"\n",
        "    vowels = [\"a\", \"e\", \"i\", \"o\", \"u\"]\n",
        "    for letter in s.lower():\n",
        "        if letter not in vowels:\n",
        "            res += letter\n",
        "    return res\n",
        "\n",
        "print(remove_vowels(\"banana\"))\n",
        "print(remove_vowels(\"ubuntu\"))\n",
        "print(remove_vowels(\"wyrd\"))"
      ]
    },
    {
      "cell_type": "code",
      "execution_count": null,
      "id": "aa7a6fb7",
      "metadata": {
        "id": "aa7a6fb7",
        "outputId": "1d80471c-c214-4652-a4a3-f0775f919c53"
      },
      "outputs": [
        {
          "name": "stdout",
          "output_type": "stream",
          "text": [
            "True\n",
            "False\n"
          ]
        }
      ],
      "source": [
        "# Exercise 47\n",
        "def starts_with_vowel(s):\n",
        "    vowels = [\"a\", \"e\", \"i\", \"o\", \"u\"]\n",
        "    if s[0] in vowels:\n",
        "        return True\n",
        "    else:\n",
        "        return False\n",
        "    \n",
        "print(starts_with_vowel(\"ubuntu\"))\n",
        "print(starts_with_vowel(\"banana\"))"
      ]
    },
    {
      "cell_type": "code",
      "execution_count": null,
      "id": "1c51bca9",
      "metadata": {
        "id": "1c51bca9",
        "outputId": "e7f4a9d4-2989-4c7a-edc8-904a0cf59a16"
      },
      "outputs": [
        {
          "name": "stdout",
          "output_type": "stream",
          "text": [
            "True\n",
            "False\n"
          ]
        }
      ],
      "source": [
        "# Exercise 48\n",
        "def ends_with_vowel(s):\n",
        "    vowels = [\"a\", \"e\", \"i\", \"o\", \"u\"]\n",
        "    if s[-1] in vowels:\n",
        "        return True\n",
        "    else:\n",
        "        return False\n",
        "    \n",
        "print(ends_with_vowel(\"ubuntu\"))\n",
        "print(ends_with_vowel(\"spinach\"))"
      ]
    },
    {
      "cell_type": "code",
      "execution_count": null,
      "id": "f2ab9915",
      "metadata": {
        "id": "f2ab9915",
        "outputId": "12de11db-b2c4-4532-fae5-aab5cc1b551d"
      },
      "outputs": [
        {
          "name": "stdout",
          "output_type": "stream",
          "text": [
            "True\n",
            "False\n"
          ]
        }
      ],
      "source": [
        "# Exercise 49\n",
        "def starts_and_ends_with_vowel(s):\n",
        "    vowels = [\"a\", \"e\", \"i\", \"o\", \"u\"]\n",
        "    if s[0] in vowels and s[-1] in vowels:\n",
        "        return True\n",
        "    else:\n",
        "        return False\n",
        "    \n",
        "print(starts_and_ends_with_vowel(\"ubuntu\"))\n",
        "print(starts_and_ends_with_vowel(\"banana\"))"
      ]
    },
    {
      "cell_type": "code",
      "execution_count": null,
      "id": "cb9937ef",
      "metadata": {
        "id": "cb9937ef",
        "outputId": "e863f780-f446-41e8-e0fc-ee3fa2e534b5"
      },
      "outputs": [
        {
          "name": "stdout",
          "output_type": "stream",
          "text": [
            "a\n",
            "0\n",
            "python\n"
          ]
        }
      ],
      "source": [
        "# Exercise 50\n",
        "def first(s):\n",
        "    return s[0]\n",
        "\n",
        "print(first(\"abc\"))\n",
        "print(first([0, 1, 2]))\n",
        "print(first([\"python\", \"is\", \"awesome\"]))"
      ]
    },
    {
      "cell_type": "code",
      "execution_count": null,
      "id": "d9913593",
      "metadata": {
        "id": "d9913593",
        "outputId": "ecb00870-6ac1-489b-9d7b-fa3dd1b24084"
      },
      "outputs": [
        {
          "name": "stdout",
          "output_type": "stream",
          "text": [
            "b\n",
            "1\n",
            "is\n"
          ]
        }
      ],
      "source": [
        "# Exercise 51\n",
        "def second(s):\n",
        "    return s[1]\n",
        "\n",
        "print(second(\"abc\"))\n",
        "print(second([0, 1, 2]))\n",
        "print(second([\"python\", \"is\", \"awesome\"]))"
      ]
    },
    {
      "cell_type": "code",
      "execution_count": null,
      "id": "b644b717",
      "metadata": {
        "id": "b644b717",
        "outputId": "a003f9cd-85ba-4f22-9fc0-2f841c0d528e"
      },
      "outputs": [
        {
          "name": "stdout",
          "output_type": "stream",
          "text": [
            "c\n",
            "2\n",
            "awesome\n"
          ]
        }
      ],
      "source": [
        "# Exercise 52\n",
        "def third(s):\n",
        "    return s[2]\n",
        "\n",
        "print(third(\"abc\"))\n",
        "print(third([0, 1, 2]))\n",
        "print(third([\"python\", \"is\", \"awesome\"]))"
      ]
    },
    {
      "cell_type": "code",
      "execution_count": null,
      "id": "aa5dd98e",
      "metadata": {
        "id": "aa5dd98e",
        "outputId": "90c464a9-0cd1-455e-b138-3d82a38d7bb7"
      },
      "outputs": [
        {
          "name": "stdout",
          "output_type": "stream",
          "text": [
            "d\n",
            "3\n",
            "right?\n"
          ]
        }
      ],
      "source": [
        "# Exercise 53\n",
        "def forth(s):\n",
        "    return s[3]\n",
        "\n",
        "print(forth(\"abcd\"))\n",
        "print(forth([0, 1, 2, 3]))\n",
        "print(forth([\"python\", \"is\", \"awesome\", \"right?\"]))"
      ]
    },
    {
      "cell_type": "code",
      "execution_count": null,
      "id": "c63846b0",
      "metadata": {
        "id": "c63846b0",
        "outputId": "22b54f55-e263-4f3f-9dda-fcc97a585894"
      },
      "outputs": [
        {
          "name": "stdout",
          "output_type": "stream",
          "text": [
            "d\n",
            "3\n",
            "right?\n"
          ]
        }
      ],
      "source": [
        "# Exercise 55\n",
        "def last(s):\n",
        "    return s[-1]\n",
        "\n",
        "print(last(\"abcd\"))\n",
        "print(last([0, 1, 2, 3]))\n",
        "print(last([\"python\", \"is\", \"awesome\", \"right?\"]))"
      ]
    },
    {
      "cell_type": "code",
      "execution_count": null,
      "id": "5cc36d5c",
      "metadata": {
        "id": "5cc36d5c",
        "outputId": "5107d321-5ebd-4d4a-c7ee-0dac2a0d2b44"
      },
      "outputs": [
        {
          "name": "stdout",
          "output_type": "stream",
          "text": [
            "c\n",
            "2\n",
            "awesome\n"
          ]
        }
      ],
      "source": [
        "# Exercise 55\n",
        "def second_to_last(s):\n",
        "    return s[-2]\n",
        "\n",
        "print(second_to_last(\"abcd\"))\n",
        "print(second_to_last([0, 1, 2, 3]))\n",
        "print(second_to_last([\"python\", \"is\", \"awesome\", \"right?\"]))"
      ]
    },
    {
      "cell_type": "code",
      "execution_count": null,
      "id": "6d8c623f",
      "metadata": {
        "id": "6d8c623f",
        "outputId": "6c1bf755-9144-4abb-97a2-d45edb28056f"
      },
      "outputs": [
        {
          "name": "stdout",
          "output_type": "stream",
          "text": [
            "b\n",
            "1\n",
            "is\n"
          ]
        }
      ],
      "source": [
        "# Exercise 56\n",
        "def third_to_last(s):\n",
        "    return s[-3]\n",
        "\n",
        "print(third_to_last(\"abcd\"))\n",
        "print(third_to_last([0, 1, 2, 3]))\n",
        "print(third_to_last([\"python\", \"is\", \"awesome\", \"right?\"]))"
      ]
    },
    {
      "cell_type": "code",
      "execution_count": null,
      "id": "3d7a3979",
      "metadata": {
        "id": "3d7a3979",
        "outputId": "49f2e857-37a6-4ab8-a203-309636328919"
      },
      "outputs": [
        {
          "name": "stdout",
          "output_type": "stream",
          "text": [
            "['a', 'b']\n",
            "[0, 1]\n",
            "['python', 'is']\n"
          ]
        }
      ],
      "source": [
        "# Exercise 57\n",
        "def first_and_second(s):\n",
        "    return [s[0], s[1]]\n",
        "\n",
        "print(first_and_second(\"abcd\"))\n",
        "print(first_and_second([0, 1, 2, 3]))\n",
        "print(first_and_second([\"python\", \"is\", \"awesome\", \"right?\"]))"
      ]
    },
    {
      "cell_type": "code",
      "execution_count": null,
      "id": "8621386d",
      "metadata": {
        "id": "8621386d",
        "outputId": "e2921ed2-3073-4db2-a610-e46e4276cb7c"
      },
      "outputs": [
        {
          "name": "stdout",
          "output_type": "stream",
          "text": [
            "['a', 'd']\n",
            "[0, 3]\n",
            "['python', 'right?']\n"
          ]
        }
      ],
      "source": [
        "# Exercise 58\n",
        "def first_and_last(s):\n",
        "    return [s[0], s[-1]]\n",
        "\n",
        "print(first_and_last(\"abcd\"))\n",
        "print(first_and_last([0, 1, 2, 3]))\n",
        "print(first_and_last([\"python\", \"is\", \"awesome\", \"right?\"]))"
      ]
    },
    {
      "cell_type": "code",
      "execution_count": null,
      "id": "e69bb882",
      "metadata": {
        "id": "e69bb882",
        "outputId": "c131f925-39a3-4a85-8e26-3d35566a91c9"
      },
      "outputs": [
        {
          "name": "stdout",
          "output_type": "stream",
          "text": [
            "[2, 3, 4, 1]\n",
            "['is', 'awesome', 'python']\n"
          ]
        }
      ],
      "source": [
        "# Exercise 59\n",
        "def first_to_last(s):\n",
        "    return s[1:] + [s[0]]\n",
        "\n",
        "print(first_to_last([1, 2, 3, 4]))\n",
        "print(first_to_last([\"python\", \"is\", \"awesome\"]))"
      ]
    },
    {
      "cell_type": "code",
      "execution_count": null,
      "id": "0cce3e5a",
      "metadata": {
        "id": "0cce3e5a",
        "outputId": "8be0ec81-96ee-4b5a-f9f9-1cbf39334839"
      },
      "outputs": [
        {
          "name": "stdout",
          "output_type": "stream",
          "text": [
            "10\n"
          ]
        }
      ],
      "source": [
        "# Exercise 60\n",
        "def sum_all(values):\n",
        "    res = 0\n",
        "    for i in values:\n",
        "        res += i\n",
        "    return res\n",
        "\n",
        "print(sum_all([1, 2, 3, 4]))"
      ]
    },
    {
      "cell_type": "code",
      "execution_count": null,
      "id": "7203a29b",
      "metadata": {
        "id": "7203a29b",
        "outputId": "13f4a494-d2ed-44c7-c353-0cbdee3a089c"
      },
      "outputs": [
        {
          "name": "stdout",
          "output_type": "stream",
          "text": [
            "2.5\n"
          ]
        }
      ],
      "source": [
        "# Exercise 61\n",
        "def mean(values):\n",
        "    res = 0\n",
        "    for i in values:\n",
        "        res += i\n",
        "    return res / len(values)\n",
        "\n",
        "print(mean([1, 2, 3, 4]))"
      ]
    },
    {
      "cell_type": "code",
      "execution_count": null,
      "id": "0b97475b",
      "metadata": {
        "id": "0b97475b",
        "outputId": "f46da787-eb26-4f33-aa17-7070c99fc73e"
      },
      "outputs": [
        {
          "name": "stdout",
          "output_type": "stream",
          "text": [
            "3.5\n",
            "5\n"
          ]
        }
      ],
      "source": [
        "# Exercise 62\n",
        "def median(values):\n",
        "    if len(values) % 2 == 0:\n",
        "        return (values[len(values) // 2] + values[(len(values) // 2) - 1]) / 2\n",
        "    else:\n",
        "        return values[len(values) // 2]\n",
        "\n",
        "print(median([1, 2, 5, 6]))\n",
        "print(median([1, 5, 6]))"
      ]
    },
    {
      "cell_type": "code",
      "execution_count": null,
      "id": "224b7161",
      "metadata": {
        "id": "224b7161",
        "outputId": "d378349f-ac52-4141-ce49-7d6119db5753"
      },
      "outputs": [
        {
          "name": "stdout",
          "output_type": "stream",
          "text": [
            "2\n"
          ]
        }
      ],
      "source": [
        "# Exercise 63\n",
        "def mode(values):\n",
        "    return max(set(values), key=values.count)\n",
        "    \n",
        "print(mode([1, 2, 2, 3, 4]))"
      ]
    },
    {
      "cell_type": "code",
      "execution_count": null,
      "id": "6a6214a8",
      "metadata": {
        "id": "6a6214a8",
        "outputId": "78f50433-588e-40e3-aa48-2e4e1f9095e2"
      },
      "outputs": [
        {
          "name": "stdout",
          "output_type": "stream",
          "text": [
            "6\n"
          ]
        }
      ],
      "source": [
        "# Exercise 64\n",
        "def product_of_all(values):\n",
        "    res = 1\n",
        "    for i in values:\n",
        "        res *= i\n",
        "    return res\n",
        "\n",
        "print(product_of_all([1, 2, 3]))"
      ]
    },
    {
      "cell_type": "code",
      "execution_count": null,
      "id": "2120fdbe",
      "metadata": {
        "id": "2120fdbe",
        "outputId": "933b9f81-e1ca-4468-c599-121b81578bf5"
      },
      "outputs": [
        {
          "name": "stdout",
          "output_type": "stream",
          "text": [
            "3\n",
            "-1\n"
          ]
        }
      ],
      "source": [
        "# Exercise 65\n",
        "def get_highest_number(values):\n",
        "    return max(values)\n",
        "\n",
        "print(get_highest_number([1, 2, 3]))\n",
        "print(get_highest_number([-1, -2, -3]))"
      ]
    },
    {
      "cell_type": "code",
      "execution_count": null,
      "id": "4ec3d1ed",
      "metadata": {
        "id": "4ec3d1ed",
        "outputId": "2b077b93-be79-4869-9754-38a5bf83ea5e"
      },
      "outputs": [
        {
          "name": "stdout",
          "output_type": "stream",
          "text": [
            "1\n",
            "-3\n"
          ]
        }
      ],
      "source": [
        "# Exercise 66\n",
        "def get_smallest_number(values):\n",
        "    return min(values)\n",
        "\n",
        "print(get_smallest_number([1, 2, 3]))\n",
        "print(get_smallest_number([-1, -2, -3]))"
      ]
    },
    {
      "cell_type": "code",
      "execution_count": null,
      "id": "9fe41f2f",
      "metadata": {
        "id": "9fe41f2f",
        "outputId": "f8d3ca7e-464f-494d-a4b8-0cf162716d33"
      },
      "outputs": [
        {
          "name": "stdout",
          "output_type": "stream",
          "text": [
            "[1, 3]\n"
          ]
        }
      ],
      "source": [
        "# Exercise 67\n",
        "def only_odd_numbers(values):\n",
        "    res = []\n",
        "    for i in values:\n",
        "        if i%2 != 0:\n",
        "            res.append(i)\n",
        "    return res\n",
        "\n",
        "print(only_odd_numbers([1, 2, 3]))"
      ]
    },
    {
      "cell_type": "code",
      "execution_count": null,
      "id": "b2204299",
      "metadata": {
        "id": "b2204299",
        "outputId": "2a956d76-174f-4efc-f1cb-f042b19bb0ee"
      },
      "outputs": [
        {
          "name": "stdout",
          "output_type": "stream",
          "text": [
            "[2]\n"
          ]
        }
      ],
      "source": [
        "# Exercise 68\n",
        "def only_even_numbers(values):\n",
        "    res = []\n",
        "    for i in values:\n",
        "        if i%2 == 0:\n",
        "            res.append(i)\n",
        "    return res\n",
        "\n",
        "print(only_even_numbers([1, 2, 3]))"
      ]
    },
    {
      "cell_type": "code",
      "execution_count": null,
      "id": "540de8db",
      "metadata": {
        "id": "540de8db",
        "outputId": "b87e7f0c-9d0f-4602-a551-fa88d87e9fc9"
      },
      "outputs": [
        {
          "name": "stdout",
          "output_type": "stream",
          "text": [
            "[1, 2]\n"
          ]
        }
      ],
      "source": [
        "# Exercise 69\n",
        "def only_positive_numbers(values):\n",
        "    res = []\n",
        "    for i in values:\n",
        "        if i > 0:\n",
        "            res.append(i)\n",
        "    return res\n",
        "\n",
        "print(only_positive_numbers([-4, -3, 1, 2, 0]))"
      ]
    },
    {
      "cell_type": "code",
      "execution_count": null,
      "id": "5b97d9e0",
      "metadata": {
        "id": "5b97d9e0",
        "outputId": "28d4dd14-072b-44a2-9cfe-8a79f5741b91"
      },
      "outputs": [
        {
          "name": "stdout",
          "output_type": "stream",
          "text": [
            "[-4, -3]\n"
          ]
        }
      ],
      "source": [
        "# Exercise 70\n",
        "def only_negative_numbers(values):\n",
        "    res = []\n",
        "    for i in values:\n",
        "        if i < 0:\n",
        "            res.append(i)\n",
        "    return res\n",
        "\n",
        "print(only_negative_numbers([-4, -3, 1, 2, 0]))"
      ]
    },
    {
      "cell_type": "code",
      "execution_count": null,
      "id": "83858b26",
      "metadata": {
        "id": "83858b26",
        "outputId": "dd6d875d-027a-41bb-aa3e-00f37cc3b046"
      },
      "outputs": [
        {
          "name": "stdout",
          "output_type": "stream",
          "text": [
            "True\n",
            "False\n"
          ]
        }
      ],
      "source": [
        "# Exercise 71\n",
        "def has_evens(values):\n",
        "    for i in values:\n",
        "        if i % 2 == 0:\n",
        "            return True\n",
        "    return False\n",
        "\n",
        "print(has_evens([0, 1, 2]))\n",
        "print(has_evens([1, 3]))"
      ]
    },
    {
      "cell_type": "code",
      "execution_count": null,
      "id": "7a60c624",
      "metadata": {
        "id": "7a60c624",
        "outputId": "0d521b39-2273-42ea-ccfa-20d6106e39c4"
      },
      "outputs": [
        {
          "name": "stdout",
          "output_type": "stream",
          "text": [
            "2\n",
            "0\n"
          ]
        }
      ],
      "source": [
        "# Exercise 72\n",
        "def count_evens(values):\n",
        "    count = 0\n",
        "    for i in values:\n",
        "        if i % 2 == 0:\n",
        "            count += 1\n",
        "    return count\n",
        "\n",
        "print(count_evens([0, 1, 2]))\n",
        "print(count_evens([1, 3]))"
      ]
    },
    {
      "cell_type": "code",
      "execution_count": null,
      "id": "0a8dee5d",
      "metadata": {
        "id": "0a8dee5d",
        "outputId": "80d544b8-0e52-4a4a-a64f-278ac127cbe8"
      },
      "outputs": [
        {
          "name": "stdout",
          "output_type": "stream",
          "text": [
            "False\n",
            "True\n"
          ]
        }
      ],
      "source": [
        "# Exercise 73\n",
        "def has_odds(values):\n",
        "    for i in values:\n",
        "        if i % 2 != 0:\n",
        "            return True\n",
        "    return False\n",
        "\n",
        "print(has_odds([0, 2]))\n",
        "print(has_odds([1, 3]))"
      ]
    },
    {
      "cell_type": "code",
      "execution_count": null,
      "id": "6732e62a",
      "metadata": {
        "id": "6732e62a",
        "outputId": "4808992e-eb23-4e80-be43-0cf3f87608e7"
      },
      "outputs": [
        {
          "name": "stdout",
          "output_type": "stream",
          "text": [
            "0\n",
            "2\n"
          ]
        }
      ],
      "source": [
        "# Exercise 74\n",
        "def count_odds(values):\n",
        "    count = 0\n",
        "    for i in values:\n",
        "        if i % 2 != 0:\n",
        "            count += 1\n",
        "    return count\n",
        "\n",
        "print(count_odds([0, 2]))\n",
        "print(count_odds([1, 3]))"
      ]
    },
    {
      "cell_type": "code",
      "execution_count": null,
      "id": "db0046a9",
      "metadata": {
        "id": "db0046a9",
        "outputId": "71d6a724-cb9c-4225-8541-f3b6bace3e14"
      },
      "outputs": [
        {
          "name": "stdout",
          "output_type": "stream",
          "text": [
            "2\n",
            "0\n"
          ]
        }
      ],
      "source": [
        "# Exercise 75\n",
        "def count_negatives(values):\n",
        "    count = 0\n",
        "    for i in values:\n",
        "        if i < 0:\n",
        "            count += 1\n",
        "    return count\n",
        "\n",
        "print(count_negatives([1, -2, -3]))\n",
        "print(count_negatives([0, 1, 2]))"
      ]
    },
    {
      "cell_type": "code",
      "execution_count": null,
      "id": "43220117",
      "metadata": {
        "id": "43220117",
        "outputId": "d559b4af-8ebf-4b11-d492-314efb2d75b5"
      },
      "outputs": [
        {
          "name": "stdout",
          "output_type": "stream",
          "text": [
            "0\n",
            "2\n"
          ]
        }
      ],
      "source": [
        "# Exercise 76\n",
        "def count_positives(values):\n",
        "    count = 0\n",
        "    for i in values:\n",
        "        if i > 0:\n",
        "            count += 1\n",
        "    return count\n",
        "\n",
        "print(count_positives([-1, -2, -3]))\n",
        "print(count_positives([0, 1, 2]))"
      ]
    },
    {
      "cell_type": "code",
      "execution_count": null,
      "id": "290d15e8",
      "metadata": {
        "id": "290d15e8",
        "outputId": "2ba70a74-571f-4aec-925b-987be714873d"
      },
      "outputs": [
        {
          "name": "stdout",
          "output_type": "stream",
          "text": [
            "[]\n",
            "[4, 6]\n"
          ]
        }
      ],
      "source": [
        "# Exercise 77\n",
        "def only_positive_evens(values):\n",
        "    res = []\n",
        "    for i in values:\n",
        "        if i > 0 and i % 2 == 0:\n",
        "            res.append(i)\n",
        "    return res\n",
        "\n",
        "print(only_positive_evens([1, -2, -3]))\n",
        "print(only_positive_evens([3, 3, 4, 6]))"
      ]
    },
    {
      "cell_type": "code",
      "execution_count": null,
      "id": "a5b07a69",
      "metadata": {
        "id": "a5b07a69",
        "outputId": "5b9ba711-bd28-4b9b-ebd9-bbc4cdcb489a"
      },
      "outputs": [
        {
          "name": "stdout",
          "output_type": "stream",
          "text": [
            "[1]\n",
            "[3, 3, 7]\n"
          ]
        }
      ],
      "source": [
        "# Exercise 78\n",
        "def only_positive_odds(values):\n",
        "    res = []\n",
        "    for i in values:\n",
        "        if i > 0 and i % 2 != 0:\n",
        "            res.append(i)\n",
        "    return res\n",
        "\n",
        "print(only_positive_odds([1, -2, -3]))\n",
        "print(only_positive_odds([3, 3, 4, 7]))"
      ]
    },
    {
      "cell_type": "code",
      "execution_count": null,
      "id": "5e66d8c4",
      "metadata": {
        "id": "5e66d8c4",
        "outputId": "7f28cf08-725c-41fe-cf64-298afe3e8edc"
      },
      "outputs": [
        {
          "name": "stdout",
          "output_type": "stream",
          "text": [
            "[-2]\n",
            "[]\n"
          ]
        }
      ],
      "source": [
        "# Exercise 79\n",
        "def only_negative_evens(values):\n",
        "    res = []\n",
        "    for i in values:\n",
        "        if i < 0 and i % 2 == 0:\n",
        "            res.append(i)\n",
        "    return res\n",
        "\n",
        "print(only_negative_evens([1, -2, -3]))\n",
        "print(only_negative_evens([3, 3, 4, 6]))"
      ]
    },
    {
      "cell_type": "code",
      "execution_count": null,
      "id": "f7a5c72e",
      "metadata": {
        "id": "f7a5c72e",
        "outputId": "ddee2a29-21e9-4e9f-d654-ee5dce06c26d"
      },
      "outputs": [
        {
          "name": "stdout",
          "output_type": "stream",
          "text": [
            "[-3]\n",
            "[]\n"
          ]
        }
      ],
      "source": [
        "# Exercise 80\n",
        "def only_negative_odds(values):\n",
        "    res = []\n",
        "    for i in values:\n",
        "        if i < 0 and i % 2 != 0:\n",
        "            res.append(i)\n",
        "    return res\n",
        "\n",
        "print(only_negative_odds([1, -2, -3]))\n",
        "print(only_negative_odds([3, 3, 4, 6]))"
      ]
    },
    {
      "cell_type": "code",
      "execution_count": null,
      "id": "6813af25",
      "metadata": {
        "id": "6813af25",
        "outputId": "0870d50e-c24e-4487-adfe-5a80d67d4891"
      },
      "outputs": [
        {
          "name": "stdout",
          "output_type": "stream",
          "text": [
            "kiwi\n"
          ]
        }
      ],
      "source": [
        "# Exercise 81\n",
        "def shortest_string(values):\n",
        "    values.sort(key=len)\n",
        "    return values[0]\n",
        "\n",
        "print(shortest_string([\"mango\", \"kiwi\", \"strawberry\"]))"
      ]
    },
    {
      "cell_type": "code",
      "execution_count": null,
      "id": "e909eca7",
      "metadata": {
        "id": "e909eca7",
        "outputId": "3a1d07eb-c006-4da0-c70e-ec735ae58748"
      },
      "outputs": [
        {
          "name": "stdout",
          "output_type": "stream",
          "text": [
            "strawberry\n"
          ]
        }
      ],
      "source": [
        "# Exercise 82\n",
        "def longest_string(values):\n",
        "    values.sort(key=len, reverse=True)\n",
        "    return values[0]\n",
        "\n",
        "print(longest_string([\"mango\", \"kiwi\", \"strawberry\"]))"
      ]
    },
    {
      "cell_type": "code",
      "execution_count": null,
      "id": "d34a5543",
      "metadata": {
        "id": "d34a5543",
        "outputId": "ecbc8409-28f4-43ff-ade0-5daa28ccc1d8"
      },
      "outputs": [
        {
          "name": "stdout",
          "output_type": "stream",
          "text": [
            "{'ant', 'mosquito', 'ladybug'}\n"
          ]
        }
      ],
      "source": [
        "# Exercise 83\n",
        "def get_unique_values(values):\n",
        "    return set(values)\n",
        "\n",
        "print(get_unique_values([\"ant\", \"ant\", \"mosquito\", \"ladybug\"]))"
      ]
    },
    {
      "cell_type": "code",
      "execution_count": null,
      "id": "b3424c67",
      "metadata": {
        "id": "b3424c67",
        "outputId": "daee0b5f-5cce-424f-d9c8-b7d675cc6b4e"
      },
      "outputs": [
        {
          "name": "stdout",
          "output_type": "stream",
          "text": [
            "{1, 2, 3, 4, 5}\n"
          ]
        }
      ],
      "source": [
        "# Exercise 84\n",
        "def get_unique_values_from_two_lists(lst1, lst2):\n",
        "    return set(lst1 + lst2)\n",
        "\n",
        "print(get_unique_values_from_two_lists([5, 1, 2, 3], [3, 4, 5, 5]))"
      ]
    },
    {
      "cell_type": "code",
      "execution_count": null,
      "id": "fb92f5c5",
      "metadata": {
        "id": "fb92f5c5",
        "outputId": "89d65c80-a5d6-4c7f-a10c-bfcc3c9bff6f"
      },
      "outputs": [
        {
          "name": "stdout",
          "output_type": "stream",
          "text": [
            "{3, 5}\n"
          ]
        }
      ],
      "source": [
        "# Exercise 85\n",
        "def get_values_in_common(lst1, lst2):\n",
        "    return set(lst1).intersection(set(lst2))\n",
        "\n",
        "print(get_values_in_common([5, 1, 2, 3], [3, 4, 5, 5]))"
      ]
    },
    {
      "cell_type": "code",
      "execution_count": null,
      "id": "f5cdc195",
      "metadata": {
        "id": "f5cdc195",
        "outputId": "292e54bc-d468-4ec8-c34c-d744b1c74087"
      },
      "outputs": [
        {
          "name": "stdout",
          "output_type": "stream",
          "text": [
            "{1, 2, 4}\n"
          ]
        }
      ],
      "source": [
        "# Exercise 86\n",
        "def get_values_not_in_common(lst1, lst2):\n",
        "    return set(lst1) ^ set(lst2)\n",
        "\n",
        "print(get_values_not_in_common([5, 1, 2, 3], [3, 4, 5, 5]))"
      ]
    },
    {
      "cell_type": "code",
      "execution_count": null,
      "id": "a5a9e20d",
      "metadata": {
        "id": "a5a9e20d"
      },
      "outputs": [],
      "source": [
        "tukey_paper = {\n",
        "    \"title\": \"The Future of Data Analysis\",\n",
        "    \"author\": \"John W. Tukey\",\n",
        "    \"link\": \"https://projecteuclid.org/euclid.aoms/1177704711\",\n",
        "    \"year_published\": 1962\n",
        "}\n",
        "\n",
        "thomas_paper = {\n",
        "    \"title\": \"A mathematical model of glutathione metabolism\",\n",
        "    \"author\": \"Rachel Thomas\",\n",
        "    \"link\": \"https://www.ncbi.nlm.nih.gov/pubmed/18442411\",\n",
        "    \"year_published\": 2008\n",
        "}"
      ]
    },
    {
      "cell_type": "code",
      "execution_count": null,
      "id": "d84b4dc8",
      "metadata": {
        "id": "d84b4dc8",
        "outputId": "d1c36ac4-f8cb-44e4-f962-c1702f679dde"
      },
      "outputs": [
        {
          "name": "stdout",
          "output_type": "stream",
          "text": [
            "The Future of Data Analysis\n",
            "A mathematical model of glutathione metabolism\n"
          ]
        }
      ],
      "source": [
        "# Exercise 87\n",
        "def get_paper_title(d):\n",
        "    return d[\"title\"]\n",
        "\n",
        "print(get_paper_title(tukey_paper))\n",
        "print(get_paper_title(thomas_paper))"
      ]
    },
    {
      "cell_type": "code",
      "execution_count": null,
      "id": "97302018",
      "metadata": {
        "id": "97302018",
        "outputId": "766e7edc-4261-4826-84ea-4d568532268a"
      },
      "outputs": [
        {
          "name": "stdout",
          "output_type": "stream",
          "text": [
            "1962\n",
            "2008\n"
          ]
        }
      ],
      "source": [
        "# Exercise 88\n",
        "def get_year_published(d):\n",
        "    return d[\"year_published\"]\n",
        "\n",
        "print(get_year_published(tukey_paper))\n",
        "print(get_year_published(thomas_paper))"
      ]
    },
    {
      "cell_type": "code",
      "execution_count": null,
      "id": "0b657873",
      "metadata": {
        "id": "0b657873"
      },
      "outputs": [],
      "source": [
        "book = {\n",
        "    \"title\": \"Genetic Algorithms and Machine Learning for Programmers\",\n",
        "    \"price\": 36.99,\n",
        "    \"author\": \"Frances Buontempo\"\n",
        "}"
      ]
    },
    {
      "cell_type": "code",
      "execution_count": null,
      "id": "59a5a894",
      "metadata": {
        "id": "59a5a894",
        "outputId": "1793b557-0e15-45d7-aeba-2a20a585dfe2"
      },
      "outputs": [
        {
          "name": "stdout",
          "output_type": "stream",
          "text": [
            "36.99\n"
          ]
        }
      ],
      "source": [
        "# Exercise 89\n",
        "def get_price(d):\n",
        "    return d[\"price\"]\n",
        "\n",
        "print(get_price(book))"
      ]
    },
    {
      "cell_type": "code",
      "execution_count": null,
      "id": "f2d56fee",
      "metadata": {
        "id": "f2d56fee",
        "outputId": "c643e8f3-4e1e-487b-c232-e9cedf026c78"
      },
      "outputs": [
        {
          "name": "stdout",
          "output_type": "stream",
          "text": [
            "Frances Buontempo\n"
          ]
        }
      ],
      "source": [
        "# Exercise 90\n",
        "def get_author_book(d):\n",
        "    return d[\"author\"]\n",
        "\n",
        "print(get_author_book(book))"
      ]
    },
    {
      "cell_type": "code",
      "execution_count": null,
      "id": "26e6bea6",
      "metadata": {
        "id": "26e6bea6"
      },
      "outputs": [],
      "source": [
        "books = [\n",
        "    {\n",
        "        \"title\": \"Genetic Algorithms and Machine Learning for Programmers\",\n",
        "        \"price\": 36.99,\n",
        "        \"author\": \"Frances Buontempo\"\n",
        "    },\n",
        "    {\n",
        "        \"title\": \"The Visual Display of Quantitative Information\",\n",
        "        \"price\": 38.00,\n",
        "        \"author\": \"Edward Tufte\"\n",
        "    },\n",
        "    {\n",
        "        \"title\": \"Practical Object-Oriented Design\",\n",
        "        \"author\": \"Sandi Metz\",\n",
        "        \"price\": 30.47\n",
        "    },\n",
        "    {\n",
        "        \"title\": \"Weapons of Math Destruction\",\n",
        "        \"author\": \"Cathy O'Neil\",\n",
        "        \"price\": 17.44\n",
        "    }\n",
        "]"
      ]
    },
    {
      "cell_type": "code",
      "execution_count": null,
      "id": "504e196d",
      "metadata": {
        "id": "504e196d",
        "outputId": "be4915e4-85b7-4c94-d584-2955064da755"
      },
      "outputs": [
        {
          "name": "stdout",
          "output_type": "stream",
          "text": [
            "4\n"
          ]
        }
      ],
      "source": [
        "# Exercise 91\n",
        "def get_number_of_books(b):\n",
        "    return len(b)\n",
        "\n",
        "print(get_number_of_books(books))"
      ]
    },
    {
      "cell_type": "code",
      "execution_count": null,
      "id": "29c50ddb",
      "metadata": {
        "id": "29c50ddb",
        "outputId": "7f8c9156-3ed8-4d82-dca5-8cb6085f4515"
      },
      "outputs": [
        {
          "name": "stdout",
          "output_type": "stream",
          "text": [
            "122.9\n"
          ]
        }
      ],
      "source": [
        "# Exercise 92\n",
        "def total_of_book_prices(b):\n",
        "    res = 0\n",
        "    for i in b:\n",
        "        res += i[\"price\"]\n",
        "    return res\n",
        "\n",
        "print(total_of_book_prices(books))"
      ]
    },
    {
      "cell_type": "code",
      "execution_count": null,
      "id": "3bb0c869",
      "metadata": {
        "id": "3bb0c869",
        "outputId": "004a32d0-5866-4179-fc03-f7791031480b"
      },
      "outputs": [
        {
          "name": "stdout",
          "output_type": "stream",
          "text": [
            "30.725\n"
          ]
        }
      ],
      "source": [
        "# Exercise 93\n",
        "def get_average_book_price(b):\n",
        "    res = 0\n",
        "    for i in b:\n",
        "        res += i[\"price\"]\n",
        "    return res / len(b)\n",
        "\n",
        "print(get_average_book_price(books))"
      ]
    },
    {
      "cell_type": "code",
      "execution_count": null,
      "id": "859c728c",
      "metadata": {
        "id": "859c728c",
        "outputId": "5d2a86e1-a13a-4736-a288-3d4142952dd4"
      },
      "outputs": [
        {
          "name": "stdout",
          "output_type": "stream",
          "text": [
            "{'title': 'The Visual Display of Quantitative Information', 'price': 38.0, 'author': 'Edward Tufte'}\n"
          ]
        }
      ],
      "source": [
        "# Exercise 94\n",
        "def highest_price_book(b):\n",
        "    max_price = 0\n",
        "    res = {}\n",
        "    for i in b:\n",
        "        if i[\"price\"] > max_price:\n",
        "            max_price = i[\"price\"]\n",
        "            res[\"title\"] = i[\"title\"]\n",
        "            res[\"price\"] = i[\"price\"]\n",
        "            res[\"author\"] = i[\"author\"]\n",
        "    return res\n",
        "\n",
        "print(highest_price_book(books))"
      ]
    },
    {
      "cell_type": "code",
      "execution_count": null,
      "id": "27b91cae",
      "metadata": {
        "id": "27b91cae",
        "outputId": "379556db-8f68-419a-e59d-6ccc5070847d"
      },
      "outputs": [
        {
          "name": "stdout",
          "output_type": "stream",
          "text": [
            "{'title': 'Weapons of Math Destruction', 'price': 17.44, 'author': \"Cathy O'Neil\"}\n"
          ]
        }
      ],
      "source": [
        "# Exercise 95\n",
        "def lowest_price_book(b):\n",
        "    res = {}\n",
        "    min_price = float(\"inf\")\n",
        "    for i in b:\n",
        "        if i[\"price\"] < min_price:\n",
        "            min_pirce = i[\"price\"]\n",
        "            res[\"title\"] = i[\"title\"]\n",
        "            res[\"price\"] = i[\"price\"]\n",
        "            res[\"author\"] = i[\"author\"]\n",
        "    return res\n",
        "\n",
        "print(lowest_price_book(books))"
      ]
    },
    {
      "cell_type": "code",
      "execution_count": null,
      "id": "66bf8445",
      "metadata": {
        "id": "66bf8445"
      },
      "outputs": [],
      "source": [
        "shopping_cart = {\n",
        "    \"tax\": .08,\n",
        "    \"items\": [\n",
        "        {\n",
        "            \"title\": \"orange juice\",\n",
        "            \"price\": 3.99,\n",
        "            \"quantity\": 1\n",
        "        },\n",
        "        {\n",
        "            \"title\": \"rice\",\n",
        "            \"price\": 1.99,\n",
        "            \"quantity\": 3\n",
        "        },\n",
        "        {\n",
        "            \"title\": \"beans\",\n",
        "            \"price\": 0.99,\n",
        "            \"quantity\": 3\n",
        "        },\n",
        "        {\n",
        "            \"title\": \"chili sauce\",\n",
        "            \"price\": 2.99,\n",
        "            \"quantity\": 1\n",
        "        },\n",
        "        {\n",
        "            \"title\": \"chocolate\",\n",
        "            \"price\": 0.75,\n",
        "            \"quantity\": 9\n",
        "        }\n",
        "    ]\n",
        "}"
      ]
    },
    {
      "cell_type": "code",
      "execution_count": null,
      "id": "bd60ffd8",
      "metadata": {
        "id": "bd60ffd8",
        "outputId": "9dd41e11-65bd-48b0-e4bf-351043cf7214"
      },
      "outputs": [
        {
          "name": "stdout",
          "output_type": "stream",
          "text": [
            "0.08\n"
          ]
        }
      ],
      "source": [
        "# Exercise 96\n",
        "def get_tax_rate(c):\n",
        "    return c[\"tax\"]\n",
        "\n",
        "print(get_tax_rate(shopping_cart))"
      ]
    },
    {
      "cell_type": "code",
      "execution_count": null,
      "id": "62693476",
      "metadata": {
        "id": "62693476",
        "outputId": "3a7a522b-60bb-4a2d-9424-06e7e8bf3c9b"
      },
      "outputs": [
        {
          "name": "stdout",
          "output_type": "stream",
          "text": [
            "5\n"
          ]
        }
      ],
      "source": [
        "# Exercise 97\n",
        "def number_of_item_types(c):\n",
        "    return len(c[\"items\"])\n",
        "\n",
        "print(number_of_item_types(shopping_cart))"
      ]
    },
    {
      "cell_type": "code",
      "execution_count": null,
      "id": "8853502e",
      "metadata": {
        "id": "8853502e",
        "outputId": "a95b7115-175c-4755-f03d-e812c01f734d"
      },
      "outputs": [
        {
          "name": "stdout",
          "output_type": "stream",
          "text": [
            "17\n"
          ]
        }
      ],
      "source": [
        "# Exercise 98\n",
        "def total_number_of_items(c):\n",
        "    res = 0\n",
        "    for i in c[\"items\"]:\n",
        "        res += i[\"quantity\"]\n",
        "    return res\n",
        "\n",
        "print(total_number_of_items(shopping_cart))"
      ]
    },
    {
      "cell_type": "code",
      "execution_count": null,
      "id": "bbd43116",
      "metadata": {
        "id": "bbd43116",
        "outputId": "699f4550-ca39-42b4-dbc8-060fd76b57f1"
      },
      "outputs": [
        {
          "name": "stdout",
          "output_type": "stream",
          "text": [
            "2.1420000000000003\n"
          ]
        }
      ],
      "source": [
        "# Exercise 99\n",
        "def get_average_item_price(c):\n",
        "    total_price = 0\n",
        "    for i in c[\"items\"]:\n",
        "        total_price += i[\"price\"]\n",
        "    return total_price / len(c[\"items\"])\n",
        "\n",
        "print(get_average_item_price(shopping_cart))"
      ]
    },
    {
      "cell_type": "code",
      "execution_count": null,
      "id": "46f9b5f2",
      "metadata": {
        "id": "46f9b5f2",
        "outputId": "893776de-16e9-433c-e4a6-0bf59d3f7752"
      },
      "outputs": [
        {
          "name": "stdout",
          "output_type": "stream",
          "text": [
            "1.333529411764706\n"
          ]
        }
      ],
      "source": [
        "# Exercise 100\n",
        "def get_average_spent_per_item(c):\n",
        "    total_price = 0\n",
        "    total_items = 0\n",
        "    for i in c[\"items\"]:\n",
        "        total_price += i[\"price\"] * i[\"quantity\"]\n",
        "        total_items += i[\"quantity\"]\n",
        "    return total_price / total_items\n",
        "\n",
        "print(get_average_spent_per_item(shopping_cart))"
      ]
    },
    {
      "cell_type": "code",
      "execution_count": null,
      "id": "70b77a64",
      "metadata": {
        "id": "70b77a64",
        "outputId": "51270d47-afe0-4497-bb17-287035ad370b"
      },
      "outputs": [
        {
          "name": "stdout",
          "output_type": "stream",
          "text": [
            "{'title': 'chocolate', 'price': 0.75, 'quantity': 9}\n"
          ]
        }
      ],
      "source": [
        "# Exercise 101\n",
        "def most_spent_on_item(c):\n",
        "    res = {}\n",
        "    max_spent = 0\n",
        "    for i in c[\"items\"]:\n",
        "        if i[\"price\"] * i[\"quantity\"] > max_spent:\n",
        "            max_spent = i[\"price\"] * i[\"quantity\"]\n",
        "            res[\"title\"] = i[\"title\"]\n",
        "            res[\"price\"] = i[\"price\"]\n",
        "            res[\"quantity\"] = i[\"quantity\"]\n",
        "    return res\n",
        "\n",
        "print(most_spent_on_item(shopping_cart))"
      ]
    },
    {
      "cell_type": "code",
      "execution_count": null,
      "id": "1ed80007",
      "metadata": {
        "id": "1ed80007"
      },
      "outputs": [],
      "source": [
        ""
      ]
    }
  ],
  "metadata": {
    "kernelspec": {
      "display_name": "Python 3",
      "language": "python",
      "name": "python3"
    },
    "language_info": {
      "codemirror_mode": {
        "name": "ipython",
        "version": 3
      },
      "file_extension": ".py",
      "mimetype": "text/x-python",
      "name": "python",
      "nbconvert_exporter": "python",
      "pygments_lexer": "ipython3",
      "version": "3.8.8"
    },
    "colab": {
      "name": "101_Exercises-214502",
      "provenance": [],
      "include_colab_link": true
    }
  },
  "nbformat": 4,
  "nbformat_minor": 5
}