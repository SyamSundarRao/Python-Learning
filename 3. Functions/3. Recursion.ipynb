{
 "cells": [
  {
   "cell_type": "markdown",
   "metadata": {},
   "source": [
    "## 1. Recursion\n",
    "**A recursive function is a function that calls itself**. Think of a function that calculates the product of 10 numbers in a list.\n",
    "As we iterate through the list, we will have to call the product function again and again. That's a recursive function.\n",
    "\n",
    "Another example of a recursive function can be calculating the factorial of a number. "
   ]
  },
  {
   "cell_type": "code",
   "execution_count": 1,
   "metadata": {},
   "outputs": [
    {
     "name": "stdout",
     "output_type": "stream",
     "text": [
      "The factorial of 3 is 6\n"
     ]
    }
   ],
   "source": [
    "#Example of a recursive function\n",
    "def factorial(x):\n",
    "    \"\"\"This is a recursive function\n",
    "    to find the factorial of an integer\"\"\"\n",
    "\n",
    "    if x == 1:\n",
    "        return 1\n",
    "    else:\n",
    "        return (x * factorial(x-1))\n",
    "\n",
    "\n",
    "num = 3\n",
    "print(\"The factorial of\", num, \"is\", factorial(num))"
   ]
  },
  {
   "cell_type": "markdown",
   "metadata": {},
   "source": [
    "-------\n",
    "In the above example, `factorial()` is a recursive function as it calls itself.\n",
    "When we call this function with a positive integer, it will `recursively call itself by decreasing the number`.\n",
    "\n",
    "Each function multiplies the number with the factorial of the number below it until it is equal to one. This recursive call can be explained in the following steps."
   ]
  },
  {
   "cell_type": "markdown",
   "metadata": {},
   "source": [
    "factorial(3)          \n",
    "#1st call with 3<br><br>\n",
    "\n",
    "3 * factorial(2)      \n",
    "#2nd call with 2<br><br>\n",
    "\n",
    "3 * 2 * factorial(1)  \n",
    "#3rd call with 1<br>\n",
    "\n",
    "3 * 2 * 1             \n",
    "#return from 3rd call as number=1<br><br>\n",
    "\n",
    "3 * 2                 \n",
    "#return from 2nd call<br><br>\n",
    "\n",
    "6                     \n",
    "#return from 1st call<br><br>"
   ]
  },
  {
   "cell_type": "markdown",
   "metadata": {},
   "source": [
    "<img src=\"../img/recursion.png\" alt=\"fishy\" class=\"bg-primary mb-1\">\n",
    "<h4><center>Visualizing recursion in Python</center></h4>\n",
    "\n",
    "-----------"
   ]
  },
  {
   "cell_type": "code",
   "execution_count": null,
   "metadata": {},
   "outputs": [],
   "source": []
  }
 ],
 "metadata": {
  "kernelspec": {
   "display_name": "Python 3",
   "language": "python",
   "name": "python3"
  },
  "language_info": {
   "codemirror_mode": {
    "name": "ipython",
    "version": 3
   },
   "file_extension": ".py",
   "mimetype": "text/x-python",
   "name": "python",
   "nbconvert_exporter": "python",
   "pygments_lexer": "ipython3",
   "version": "3.8.5"
  }
 },
 "nbformat": 4,
 "nbformat_minor": 4
}
