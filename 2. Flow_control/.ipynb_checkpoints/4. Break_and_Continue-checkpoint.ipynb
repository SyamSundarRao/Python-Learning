{
 "cells": [
  {
   "cell_type": "markdown",
   "metadata": {},
   "source": [
    "## 1. Break and Continue\n",
    "In Python, `break` and `continue` statements can alter the flow of a normal loop.<br>\n",
    "`Break` - exits the loop completely.<br>\n",
    "`Continue` - exits the current iteration of the loop and continues with the next iteration."
   ]
  },
  {
   "cell_type": "markdown",
   "metadata": {},
   "source": [
    "--------\n",
    "\n",
    "**What is the use of break and continue in Python?**\n",
    "\n",
    "In Python, `break` and `continue` statements can alter the flow of a normal loop.\n",
    "\n",
    "Loops iterate over a block of code until the test expression is false, but sometimes we wish to terminate the current iteration or even the whole loop without checking test expression.\n",
    "\n",
    "The `break` and `continue` statements are used in these cases."
   ]
  },
  {
   "cell_type": "markdown",
   "metadata": {},
   "source": [
    "## 2. Break statement\n",
    "\n",
    "The `break` statement terminates the loop containing it. Control of the program flows to the statement immediately after the body of the loop.\n",
    "\n",
    "If the `break` statement is inside a nested loop (loop inside another loop), the `break` statement will terminate the innermost loop."
   ]
  },
  {
   "cell_type": "markdown",
   "metadata": {},
   "source": [
    "<img src=\"../img/break_1.png\" alt=\"fishy\" class=\"bg-primary mb-1\">\n",
    "<h4><center>Flowchart of break statement in Python</center></h4>\n",
    "\n",
    "-----------"
   ]
  },
  {
   "cell_type": "markdown",
   "metadata": {},
   "source": [
    "<img src=\"../img/break_2.png\" alt=\"fishy\" class=\"bg-primary mb-1\">\n",
    "<h4><center>Working of break statement in Python</center></h4>\n",
    "\n",
    "-----------"
   ]
  },
  {
   "cell_type": "code",
   "execution_count": 3,
   "metadata": {},
   "outputs": [
    {
     "name": "stdout",
     "output_type": "stream",
     "text": [
      "s\n",
      "t\n",
      "r\n",
      "The end\n"
     ]
    }
   ],
   "source": [
    "#Example of a break statement in Python\n",
    "for val in \"string\":\n",
    "    if val == \"i\":\n",
    "        break\n",
    "    print(val)\n",
    "\n",
    "print(\"The end\")"
   ]
  },
  {
   "cell_type": "markdown",
   "metadata": {},
   "source": [
    "----------\n",
    "In this program, we iterate through the \"string\" sequence. We check if the letter is i, upon which we break from the loop. Hence, we see in our output that all the letters up till i gets printed. After that, the loop terminates."
   ]
  },
  {
   "cell_type": "markdown",
   "metadata": {},
   "source": [
    "## 3. Continue statement\n",
    "The `continue` statement is used to skip the rest of the code inside a loop for the current iteration only. `Loop does not terminate but continues` on with the next iteration."
   ]
  },
  {
   "cell_type": "markdown",
   "metadata": {},
   "source": [
    "<img src=\"../img/continue_1.png\" alt=\"fishy\" class=\"bg-primary mb-1\">\n",
    "<h4><center>Flowchart of continue statement in Python</center></h4>\n",
    "\n",
    "-----------"
   ]
  },
  {
   "cell_type": "markdown",
   "metadata": {},
   "source": [
    "<img src=\"../img/continue_2.png\" alt=\"fishy\" class=\"bg-primary mb-1\">\n",
    "<h4><center>Working of continue statement in Python</center></h4>\n",
    "\n",
    "-----------"
   ]
  },
  {
   "cell_type": "code",
   "execution_count": 4,
   "metadata": {},
   "outputs": [
    {
     "name": "stdout",
     "output_type": "stream",
     "text": [
      "s\n",
      "t\n",
      "r\n",
      "n\n",
      "g\n",
      "The end\n"
     ]
    }
   ],
   "source": [
    "# Program to show the use of continue statement inside loops\n",
    "\n",
    "for val in \"string\":\n",
    "    if val == \"i\":\n",
    "        continue\n",
    "    print(val)\n",
    "\n",
    "print(\"The end\")"
   ]
  },
  {
   "cell_type": "markdown",
   "metadata": {},
   "source": [
    "-------\n",
    "\n",
    "This program is the same as the above example except the `break` statement has been replaced with `continue`.\n",
    "\n",
    "We continue with the loop, if the string is i, not executing the rest of the block. Hence, we see in our output that all the letters except i gets printed."
   ]
  },
  {
   "cell_type": "code",
   "execution_count": null,
   "metadata": {},
   "outputs": [],
   "source": []
  }
 ],
 "metadata": {
  "kernelspec": {
   "display_name": "Python 3",
   "language": "python",
   "name": "python3"
  },
  "language_info": {
   "codemirror_mode": {
    "name": "ipython",
    "version": 3
   },
   "file_extension": ".py",
   "mimetype": "text/x-python",
   "name": "python",
   "nbconvert_exporter": "python",
   "pygments_lexer": "ipython3",
   "version": "3.8.5"
  }
 },
 "nbformat": 4,
 "nbformat_minor": 4
}
