{
 "cells": [
  {
   "cell_type": "markdown",
   "metadata": {},
   "source": [
    "## 1. Keywords\n",
    "\n",
    "- Keywords are the reserved words in Python. \n",
    "- Think of keywords as some in-built functionality in Python to achieve a particular task.\n",
    "- We cannot use a keyword as a variable name, function name, or any other identifier. They are used to define the syntax and structure of the Python language.\n",
    "- In Python, keywords are case-sensitive. There are 33 keywords in Python 3.7. This number can vary slightly over the course of time.\n",
    "- All the keywords except `True`, `False`, and `None` are in lowercase and they must be written as they are.\n"
   ]
  },
  {
   "cell_type": "markdown",
   "metadata": {},
   "source": [
    "<img src=\"img/keywords.png\" alt=\"fishy\" class=\"bg-primary mb-1\">\n",
    "<h4><center>List of keywords in Python</center></h4>\n",
    "\n",
    "-----------"
   ]
  },
  {
   "cell_type": "markdown",
   "metadata": {},
   "source": [
    "## 2. Identifiers\n",
    "\n",
    "- An identifier is a name given to entities like class, functions, variables, etc.\n",
    "- It helps to differentiate one entity from another.\n",
    "\n",
    "**Rules for naming identifiers**\n",
    "- Python is a case-sensitive language\n",
    "- An identifier can be a combination of letters (a/A), digits (0-9) or an underscore(_)\n",
    "- An identifier cannot start with a digit\n",
    "- Keywords cannot be used as an identifier"
   ]
  },
  {
   "cell_type": "code",
   "execution_count": 4,
   "metadata": {},
   "outputs": [],
   "source": [
    "#here name is an identifier as it is used to store a text\n",
    "name = \"Ronaldo\"\n",
    "\n",
    "#here num is an identifier \n",
    "num = 23\n",
    "\n",
    "#list_president is an identifier as it is used to name a list\n",
    "list_president = [\"Barack Obama\", \"Donald Trump\", \"Joe Biden\"]"
   ]
  },
  {
   "cell_type": "markdown",
   "metadata": {},
   "source": [
    "----------"
   ]
  },
  {
   "cell_type": "markdown",
   "metadata": {},
   "source": [
    "## 3. Comments\n",
    "\n",
    "- Comments are very important while writing a program. They describe what is going on inside a program, so that a person looking at the source code does not have a hard time figuring it out.\n",
    "- You might forget the key details of the program you just wrote in a month's time. So taking the time to explain these concepts in the form of comments is always fruitful.\n",
    "- In Python, we use the hash (**#**) symbol to start writing a comment."
   ]
  },
  {
   "cell_type": "markdown",
   "metadata": {},
   "source": [
    "**Single Line Comment**"
   ]
  },
  {
   "cell_type": "code",
   "execution_count": 13,
   "metadata": {},
   "outputs": [
    {
     "name": "stdout",
     "output_type": "stream",
     "text": [
      "Hello\n"
     ]
    }
   ],
   "source": [
    "#This is a comment - print out Hello\n",
    "print('Hello')"
   ]
  },
  {
   "cell_type": "markdown",
   "metadata": {},
   "source": [
    "**Multi-Line Comment**"
   ]
  },
  {
   "cell_type": "code",
   "execution_count": 6,
   "metadata": {},
   "outputs": [],
   "source": [
    "#This is a long comment\n",
    "#and it extends\n",
    "#to multiple lines"
   ]
  },
  {
   "cell_type": "code",
   "execution_count": 12,
   "metadata": {},
   "outputs": [
    {
     "data": {
      "text/plain": [
       "'This is also a perfect \\nexample of\\nmulti-line comments'"
      ]
     },
     "execution_count": 12,
     "metadata": {},
     "output_type": "execute_result"
    }
   ],
   "source": [
    "\"\"\"This is also a perfect \n",
    "example of\n",
    "multi-line comments\"\"\""
   ]
  },
  {
   "cell_type": "markdown",
   "metadata": {},
   "source": [
    "----------"
   ]
  },
  {
   "cell_type": "markdown",
   "metadata": {},
   "source": [
    "## 4. Docstrings\n",
    "\n",
    "- A docstring is short for documentation string.\n",
    "- Python docstrings (documentation strings) are the string literals that appear right after the definition of a function, method, class, or module.\n",
    "- Triple quotes are used while writing docstrings. For example:"
   ]
  },
  {
   "cell_type": "code",
   "execution_count": 14,
   "metadata": {},
   "outputs": [],
   "source": [
    "def double(num):\n",
    "    \"\"\"Function to double the value\"\"\"\n",
    "    return 2*num"
   ]
  },
  {
   "cell_type": "markdown",
   "metadata": {},
   "source": [
    "- Docstrings appear right after the definition of a function, class, or a module. This separates docstrings from multiline comments using triple quotes.\n",
    "- The docstrings are associated with the object as their `__doc__` attribute.\n",
    "- So, we can access the docstrings of the above function with the following lines of code:"
   ]
  },
  {
   "cell_type": "code",
   "execution_count": 16,
   "metadata": {},
   "outputs": [
    {
     "data": {
      "text/plain": [
       "'Function to double the value'"
      ]
     },
     "execution_count": 16,
     "metadata": {},
     "output_type": "execute_result"
    }
   ],
   "source": [
    "#Print the docstring\n",
    "double.__doc__"
   ]
  },
  {
   "cell_type": "markdown",
   "metadata": {},
   "source": [
    "-------------"
   ]
  },
  {
   "cell_type": "markdown",
   "metadata": {},
   "source": [
    "## 5. Indentation\n",
    "\n",
    "- Most of the programming languages like C, C++, and Java use braces { } to define a block of code. Python, however, uses indentation.\n",
    "- A code block (body of a function, loop, etc.) starts with indentation and ends with the first unindented line.\n",
    "- The amount of indentation is up to you, but it must be consistent throughout that block."
   ]
  },
  {
   "cell_type": "code",
   "execution_count": 17,
   "metadata": {},
   "outputs": [
    {
     "name": "stdout",
     "output_type": "stream",
     "text": [
      "1\n",
      "2\n",
      "3\n",
      "4\n",
      "5\n"
     ]
    }
   ],
   "source": [
    "#Generally, four whitespaces are used for indentation and are preferred over tabs. Here is an example.\n",
    "for i in range(1,11):\n",
    "    print(i)\n",
    "    if i == 5:\n",
    "        break"
   ]
  },
  {
   "cell_type": "markdown",
   "metadata": {},
   "source": [
    "------------"
   ]
  },
  {
   "cell_type": "markdown",
   "metadata": {},
   "source": [
    "## 6. Statements\n",
    "\n",
    "- Instructions that a Python interpreter can execute are called statements.\n",
    "- For example, a = 1 is an assignment statement.\n",
    "- if statement, for statement, while statement, etc. are other kinds of statements which will be discussed late"
   ]
  },
  {
   "cell_type": "code",
   "execution_count": 18,
   "metadata": {},
   "outputs": [],
   "source": [
    "#This is an explicit line continuation. \n",
    "#In Python, line continuation is implied inside parentheses ( ), brackets [ ], and braces { }. \n",
    "\n",
    "#For instance, we can implement the above multi-line statement as:\n",
    "a = 1 + 2 + 3 + \\\n",
    "    4 + 5 + 6 + \\\n",
    "    7 + 8 + 9\n",
    "\n",
    "#Here, the surrounding parentheses ( ) do the line continuation implicitly. Same is the case with [ ] and { }. For example:\n",
    "colors = ['red',\n",
    "          'blue',\n",
    "          'green']\n",
    "\n",
    "\n",
    "#We can also put multiple statements in a single line using semicolons, as follows:\n",
    "a = 1; b = 2; c = 3"
   ]
  },
  {
   "cell_type": "code",
   "execution_count": null,
   "metadata": {},
   "outputs": [],
   "source": []
  }
 ],
 "metadata": {
  "kernelspec": {
   "display_name": "Python 3",
   "language": "python",
   "name": "python3"
  },
  "language_info": {
   "codemirror_mode": {
    "name": "ipython",
    "version": 3
   },
   "file_extension": ".py",
   "mimetype": "text/x-python",
   "name": "python",
   "nbconvert_exporter": "python",
   "pygments_lexer": "ipython3",
   "version": "3.8.5"
  }
 },
 "nbformat": 4,
 "nbformat_minor": 4
}
